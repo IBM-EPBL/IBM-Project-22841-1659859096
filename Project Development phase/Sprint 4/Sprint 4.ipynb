{
 "cells": [
  {
   "cell_type": "markdown",
   "metadata": {
    "id": "T9NqrmQO7w8a"
   },
   "source": [
    "# Data Preprocessing"
   ]
  },
  {
   "cell_type": "markdown",
   "metadata": {
    "id": "uRmrYkEBfyIP"
   },
   "source": [
    "## Import the libraries"
   ]
  },
  {
   "cell_type": "code",
   "execution_count": 1,
   "metadata": {
    "_cell_guid": "b1076dfc-b9ad-4769-8c92-a6c4dae69d19",
    "_uuid": "8f2839f25d086af736a60e9eeb907d3b93b6e0e5",
    "colab": {
     "base_uri": "https://localhost:8080/"
    },
    "id": "NmZpYS46X1uE",
    "outputId": "a16a8833-0331-4282-dd63-c96bed123f41"
   },
   "outputs": [],
   "source": [
    "!pip install ibm-cos-sdk | grep -v 'already satisfied'\n",
    "import ibm_boto3\n",
    "from ibm_botocore.client import Config\n",
    "import pandas as pd\n",
    "import numpy as np\n",
    "import io, datetime\n",
    "import matplotlib.pyplot as plt\n",
    "import seaborn as sns\n",
    "import statsmodels.api as sm\n",
    "from pylab import rcParams\n",
    "from sklearn.preprocessing import MinMaxScaler"
   ]
  },
  {
   "cell_type": "markdown",
   "metadata": {
    "id": "JRQ7b4izgE4d"
   },
   "source": [
    "## Importing the dataset"
   ]
  },
  {
   "cell_type": "code",
   "execution_count": 2,
   "metadata": {
    "colab": {
     "base_uri": "https://localhost:8080/",
     "height": 206
    },
    "id": "JB6hE6_Vj1WM",
    "outputId": "d7b4a6b6-a482-497f-8014-712dece85fc5"
   },
   "outputs": [],
   "source": [
    "# The code was removed by Watson Studio for sharing."
   ]
  },
  {
   "cell_type": "markdown",
   "metadata": {
    "id": "7G2Otdxwhh58"
   },
   "source": [
    "## Handling missing data"
   ]
  },
  {
   "cell_type": "code",
   "execution_count": 3,
   "metadata": {
    "colab": {
     "base_uri": "https://localhost:8080/"
    },
    "id": "pEeNFSqlhuYz",
    "outputId": "703b0119-96dd-4e56-e8d7-9709ef5a76b0"
   },
   "outputs": [
    {
     "ename": "NameError",
     "evalue": "name 'df' is not defined",
     "output_type": "error",
     "traceback": [
      "\u001b[0;31m---------------------------------------------------------------------------\u001b[0m",
      "\u001b[0;31mNameError\u001b[0m                                 Traceback (most recent call last)",
      "\u001b[0;32m/tmp/ipykernel_22350/1136089178.py\u001b[0m in \u001b[0;36m<cell line: 1>\u001b[0;34m()\u001b[0m\n\u001b[0;32m----> 1\u001b[0;31m \u001b[0mdf\u001b[0m\u001b[0;34m.\u001b[0m\u001b[0misnull\u001b[0m\u001b[0;34m(\u001b[0m\u001b[0;34m)\u001b[0m\u001b[0;34m.\u001b[0m\u001b[0many\u001b[0m\u001b[0;34m(\u001b[0m\u001b[0;34m)\u001b[0m\u001b[0;34m\u001b[0m\u001b[0;34m\u001b[0m\u001b[0m\n\u001b[0m",
      "\u001b[0;31mNameError\u001b[0m: name 'df' is not defined"
     ]
    }
   ],
   "source": [
    "df.isnull().any()"
   ]
  },
  {
   "cell_type": "code",
   "execution_count": null,
   "metadata": {
    "colab": {
     "base_uri": "https://localhost:8080/"
    },
    "id": "Jp_T57mjFHau",
    "outputId": "361ca41a-9716-456c-ab8e-ed93046213f6"
   },
   "outputs": [],
   "source": [
    "df.dropna(axis=0,inplace=True)\n",
    "df.isnull().any()"
   ]
  },
  {
   "cell_type": "code",
   "execution_count": null,
   "metadata": {
    "colab": {
     "base_uri": "https://localhost:8080/"
    },
    "id": "0chV0hiiGHd6",
    "outputId": "286bdf78-c6cd-4bc5-88a6-55afffa3a8e7"
   },
   "outputs": [],
   "source": [
    "df.shape"
   ]
  },
  {
   "cell_type": "markdown",
   "metadata": {
    "id": "edGCLo_BhuFL"
   },
   "source": [
    "## Data visualization"
   ]
  },
  {
   "cell_type": "code",
   "execution_count": null,
   "metadata": {
    "colab": {
     "base_uri": "https://localhost:8080/",
     "height": 391
    },
    "id": "RxTvZZubX1uY",
    "outputId": "278c310b-5582-4469-ad36-e9457529c5fe"
   },
   "outputs": [],
   "source": [
    "plot = plt.figure(figsize=(15, 6))\n",
    "time = pd.to_datetime(df['date'])\n",
    "price = list(df['price'])\n",
    "data = pd.Series(price, time)\n",
    "plt.plot(data)"
   ]
  },
  {
   "cell_type": "code",
   "execution_count": null,
   "metadata": {
    "colab": {
     "base_uri": "https://localhost:8080/",
     "height": 392
    },
    "id": "OWEt1O49YLaX",
    "outputId": "2e0c74c8-2ad3-463c-dda2-145fba1df78f"
   },
   "outputs": [],
   "source": [
    "#Decompose the plot\n",
    "df.set_index('date', inplace=True)\n",
    "y = df['price'].resample('MS').mean()\n",
    "y.plot(figsize=(15, 6))\n",
    "plt.show()"
   ]
  },
  {
   "cell_type": "code",
   "execution_count": null,
   "metadata": {
    "colab": {
     "base_uri": "https://localhost:8080/",
     "height": 585
    },
    "id": "NnxbyfBMZsfY",
    "outputId": "41b38f92-3cc1-4b11-8d59-c5104461edca"
   },
   "outputs": [],
   "source": [
    "rcParams['figure.figsize'] = 18, 8\n",
    "decomposition = sm.tsa.seasonal_decompose(y, model='additive')\n",
    "fig = decomposition.plot()\n",
    "plt.show()"
   ]
  },
  {
   "cell_type": "markdown",
   "metadata": {
    "id": "9pvQUhYDix7J"
   },
   "source": [
    "## Feature Scaling\n"
   ]
  },
  {
   "cell_type": "code",
   "execution_count": null,
   "metadata": {
    "id": "mcNpkUd4X1ud"
   },
   "outputs": [],
   "source": [
    "df1 = df.reset_index()['price']\n",
    "sc = MinMaxScaler(feature_range = (0, 1))\n",
    "df1 = sc.fit_transform(np.array(df1).reshape(-1,1))"
   ]
  },
  {
   "cell_type": "code",
   "execution_count": null,
   "metadata": {
    "colab": {
     "base_uri": "https://localhost:8080/"
    },
    "id": "cLb1GObnyHnQ",
    "outputId": "d3542024-5252-48d2-af0c-e86aee777a94"
   },
   "outputs": [],
   "source": [
    "df1.shape"
   ]
  },
  {
   "cell_type": "markdown",
   "metadata": {
    "id": "IVbC5WVgk8yU"
   },
   "source": [
    "## Train Test Split"
   ]
  },
  {
   "cell_type": "code",
   "execution_count": null,
   "metadata": {
    "id": "cNHSyqh_X1ue"
   },
   "outputs": [],
   "source": [
    "train_size = int(len(df1) * 0.80)\n",
    "test_size = len(df1) - train_size\n",
    "train, test = df1[0:train_size, :], df1[train_size:len(df1), :]"
   ]
  },
  {
   "cell_type": "code",
   "execution_count": null,
   "metadata": {
    "colab": {
     "base_uri": "https://localhost:8080/"
    },
    "id": "N4XzW8OxI22_",
    "outputId": "4f39517a-e8f2-4639-8db9-bfa0129318a6"
   },
   "outputs": [],
   "source": [
    "len(test)"
   ]
  },
  {
   "cell_type": "markdown",
   "metadata": {
    "id": "sD-7VGBFlrFX"
   },
   "source": [
    "## Creating Window"
   ]
  },
  {
   "cell_type": "code",
   "execution_count": null,
   "metadata": {
    "id": "7Oyi39q_X1uf"
   },
   "outputs": [],
   "source": [
    "def dataset(df, lookback=1):\n",
    "    data_x, data_y = [], []\n",
    "    for i in range(len(df) - lookback - 1):\n",
    "        a = df[i:(i + lookback), 0]\n",
    "        data_x.append(a)\n",
    "        data_y.append(df[i + lookback, 0])\n",
    "    return np.array(data_x), np.array(data_y)\n",
    "\n",
    "time_step = 10\n",
    "# Reshape into X=t and Y=t+1\n",
    "X_train , Y_train = dataset(train,time_step)\n",
    "X_test , Y_test = dataset(test,time_step)\n",
    "# Reshape input to be [samples, time steps, features]\n",
    "X_train = X_train.reshape(X_train.shape[0],X_train.shape[1],1)\n",
    "X_test = X_test.reshape(X_test.shape[0],X_test.shape[1],1)"
   ]
  },
  {
   "cell_type": "code",
   "execution_count": null,
   "metadata": {
    "colab": {
     "base_uri": "https://localhost:8080/"
    },
    "id": "IKXObMZwyTeU",
    "outputId": "c7e566a3-f64d-493d-8af6-efaef6523fa1"
   },
   "outputs": [],
   "source": [
    "X_train.shape"
   ]
  },
  {
   "cell_type": "markdown",
   "metadata": {
    "id": "MIWQkDrJB8aT"
   },
   "source": [
    "# **Model Building**"
   ]
  },
  {
   "cell_type": "markdown",
   "metadata": {
    "id": "QmFQrm777W6f"
   },
   "source": [
    "## Import the Model building libraries"
   ]
  },
  {
   "cell_type": "code",
   "execution_count": null,
   "metadata": {
    "id": "jmBBRcCh7RoZ"
   },
   "outputs": [],
   "source": [
    "import tensorflow as tf\n",
    "from tensorflow.keras.models import Sequential\n",
    "from tensorflow.keras.layers import Dense\n",
    "from tensorflow.keras.layers import LSTM\n",
    "from sklearn.metrics import mean_absolute_error\n",
    "from sklearn.metrics import mean_squared_error"
   ]
  },
  {
   "cell_type": "markdown",
   "metadata": {
    "id": "_wwNAED_7RZV"
   },
   "source": [
    "## Model"
   ]
  },
  {
   "cell_type": "code",
   "execution_count": null,
   "metadata": {
    "colab": {
     "base_uri": "https://localhost:8080/"
    },
    "id": "ohiA6F2c7StP",
    "outputId": "1f9e8402-ea4f-401d-9365-a366a3e4a604"
   },
   "outputs": [],
   "source": [
    "model = Sequential()\n",
    "model.add(LSTM(units = 10, return_sequences = True, input_shape = (X_train.shape[1], 1)))\n",
    "model.add(LSTM(units = 10, return_sequences = True))\n",
    "model.add(LSTM(units = 10))\n",
    "model.add(Dense(units = 1))\n",
    "model.compile(optimizer = 'adam', loss = 'mean_squared_error')\n",
    "model.summary()"
   ]
  },
  {
   "cell_type": "code",
   "execution_count": null,
   "metadata": {
    "colab": {
     "base_uri": "https://localhost:8080/"
    },
    "id": "AZc3RcBZ8iYM",
    "outputId": "e2771d9a-718e-4d75-d278-4b0aa6f27652"
   },
   "outputs": [],
   "source": [
    "# 1st LSTM Layer \n",
    "print(4 * 10 * (1 + 10 + 1))"
   ]
  },
  {
   "cell_type": "code",
   "execution_count": null,
   "metadata": {
    "colab": {
     "base_uri": "https://localhost:8080/"
    },
    "id": "iIMXNQIo8jUv",
    "outputId": "7f55b882-ccd2-41f4-9161-53cbd8ceab32"
   },
   "outputs": [],
   "source": [
    "# 2nd LSTM Layer \n",
    "parameters = 4 * 10 * (10 + 10 + 1)\n",
    "print(parameters)"
   ]
  },
  {
   "cell_type": "code",
   "execution_count": null,
   "metadata": {
    "colab": {
     "base_uri": "https://localhost:8080/"
    },
    "id": "ghEgzgJHzeSF",
    "outputId": "7d0ca222-2236-4912-8776-3360cc3e4cd6"
   },
   "outputs": [],
   "source": [
    "history = model.fit(X_train, Y_train, epochs = 30, batch_size = 64,validation_data=(X_test, Y_test),verbose=2)"
   ]
  },
  {
   "cell_type": "markdown",
   "metadata": {
    "id": "Rr8RKZCj7hUD"
   },
   "source": [
    "## Train the model"
   ]
  },
  {
   "cell_type": "code",
   "execution_count": null,
   "metadata": {
    "colab": {
     "base_uri": "https://localhost:8080/"
    },
    "id": "Becjn8JwX1ui",
    "outputId": "21523813-f18d-4ade-9edd-5319e4334963"
   },
   "outputs": [],
   "source": [
    "train_predict = model.predict(X_train)\n",
    "test_predict = model.predict(X_test)"
   ]
  },
  {
   "cell_type": "code",
   "execution_count": null,
   "metadata": {
    "id": "xeculyNTX1uk"
   },
   "outputs": [],
   "source": [
    "# invert predictions\n",
    "train_predict = sc.inverse_transform(train_predict)\n",
    "Y_train = sc.inverse_transform([Y_train])\n",
    "test_predict = sc.inverse_transform(test_predict)\n",
    "Y_test = sc.inverse_transform([Y_test])"
   ]
  },
  {
   "cell_type": "markdown",
   "metadata": {
    "id": "VMzH6cnJ7kIj"
   },
   "source": [
    "## Model evaluation"
   ]
  },
  {
   "cell_type": "code",
   "execution_count": null,
   "metadata": {
    "colab": {
     "base_uri": "https://localhost:8080/"
    },
    "id": "rBP71vPjX1ul",
    "outputId": "3d8bbf5f-c9d7-43ac-c786-7af8a04d416e"
   },
   "outputs": [],
   "source": [
    "print('Train Mean Absolute Error:', mean_absolute_error(Y_train[0], train_predict[:,0]))\n",
    "print('Train Root Mean Squared Error:',np.sqrt(mean_squared_error(Y_train[0], train_predict[:,0])))\n",
    "print('Test Mean Absolute Error:', mean_absolute_error(Y_test[0], test_predict[:,0]))\n",
    "print('Test Root Mean Squared Error:',np.sqrt(mean_squared_error(Y_test[0], test_predict[:,0])))"
   ]
  },
  {
   "cell_type": "code",
   "execution_count": null,
   "metadata": {
    "colab": {
     "base_uri": "https://localhost:8080/",
     "height": 295
    },
    "id": "aqYwCNfm_q8r",
    "outputId": "d0cecb84-e9ce-408f-abee-ca4bf0e5d4ce"
   },
   "outputs": [],
   "source": [
    "plt.figure(figsize=(8,4))\n",
    "plt.plot(history.history['loss'], label='Train Loss')\n",
    "plt.plot(history.history['val_loss'], label='Test Loss')\n",
    "plt.title('model loss')\n",
    "plt.ylabel('loss')\n",
    "plt.xlabel('epochs')\n",
    "plt.legend(loc='upper right')\n",
    "plt.show();"
   ]
  },
  {
   "cell_type": "code",
   "execution_count": null,
   "metadata": {
    "colab": {
     "base_uri": "https://localhost:8080/",
     "height": 316
    },
    "id": "r4pPzQY7X1um",
    "outputId": "7f903e52-0aee-4744-b554-53ec2e90e9b1"
   },
   "outputs": [],
   "source": [
    "data = [i for i in range(180)]\n",
    "plt.figure(figsize=(8,4))\n",
    "plt.plot(data, Y_test[0][:180], marker='.', label=\"Actual\")\n",
    "plt.plot(data, test_predict[:,0][:180], 'r', label=\"Predicted\")\n",
    "plt.tight_layout()\n",
    "plt.subplots_adjust(left=0.07)\n",
    "plt.ylabel('Price', size=15)\n",
    "plt.xlabel('Time step', size=15)\n",
    "plt.legend(fontsize=15)\n",
    "plt.show();"
   ]
  },
  {
   "cell_type": "markdown",
   "metadata": {
    "id": "87SOa5ne7mxM"
   },
   "source": [
    "## Save the model"
   ]
  },
  {
   "cell_type": "code",
   "execution_count": null,
   "metadata": {
    "colab": {
     "base_uri": "https://localhost:8080/"
    },
    "id": "yfpRTdmgj1Wg",
    "outputId": "af195091-39f7-4cd8-e8d3-bc936ada8e45"
   },
   "outputs": [],
   "source": [
    "model.save(\"model.h5\")\n",
    "!tar -zcvf model.tgz model.h5"
   ]
  },
  {
   "cell_type": "markdown",
   "metadata": {
    "id": "mBgffIRWj1Wh"
   },
   "source": [
    "## IBM WATSON Deployment"
   ]
  },
  {
   "cell_type": "code",
   "execution_count": null,
   "metadata": {
    "colab": {
     "base_uri": "https://localhost:8080/",
     "height": 1000
    },
    "id": "cIPqZ3Wdj1Wh",
    "outputId": "f0b82aae-401a-43f5-a1fe-fafa79cdf6d9"
   },
   "outputs": [],
   "source": [
    "!pip install ibm_watson_machine_learning watson-machine-learning-client | grep -v 'already satisfied'"
   ]
  },
  {
   "cell_type": "code",
   "execution_count": null,
   "metadata": {
    "colab": {
     "base_uri": "https://localhost:8080/"
    },
    "id": "q0g9aqdrj1Wi",
    "outputId": "17584674-bb2a-4234-cdb1-789c2fe43da2"
   },
   "outputs": [],
   "source": [
    "# The code was removed by Watson Studio for sharing."
   ]
  },
  {
   "cell_type": "code",
   "execution_count": null,
   "metadata": {
    "id": "VODN7Ah6j1Wi"
   },
   "outputs": [],
   "source": [
    "def guid_from_space_name(client,space_name):\n",
    "    space = client.spaces.get_details()\n",
    "    return(next(item for item in space['resources'] if item['entity'][\"name\"] == space_name)['metadata']['id'])"
   ]
  },
  {
   "cell_type": "code",
   "execution_count": null,
   "metadata": {
    "colab": {
     "base_uri": "https://localhost:8080/"
    },
    "id": "hxEZZfV2j1Wj",
    "outputId": "0b976efc-e1ce-475e-a80b-f9f5198395be"
   },
   "outputs": [],
   "source": [
    "space_uid = guid_from_space_name(client,'model')\n",
    "print(\"Space - {}\".format(space_uid))"
   ]
  },
  {
   "cell_type": "code",
   "execution_count": null,
   "metadata": {
    "colab": {
     "base_uri": "https://localhost:8080/",
     "height": 36
    },
    "id": "uGsHh05Sj1Wj",
    "outputId": "44c59843-a9ff-4b62-ecf3-a2746c404db4"
   },
   "outputs": [],
   "source": [
    "client.set.default_space(space_uid)"
   ]
  },
  {
   "cell_type": "code",
   "execution_count": null,
   "metadata": {
    "colab": {
     "base_uri": "https://localhost:8080/"
    },
    "id": "DukUeqM3j1Wj",
    "outputId": "08081b1d-e905-4232-ad85-cf8c36b8ec0e"
   },
   "outputs": [],
   "source": [
    "client.software_specifications.list()"
   ]
  },
  {
   "cell_type": "code",
   "execution_count": null,
   "metadata": {
    "colab": {
     "base_uri": "https://localhost:8080/",
     "height": 36
    },
    "id": "S0DLxI6pj1Wk",
    "outputId": "c3b86abb-4c97-46fa-bdc5-5fc9a8334ae5"
   },
   "outputs": [],
   "source": [
    "software_spec_uid = client.software_specifications.get_uid_by_name(\"tensorflow_rt22.1-py3.9\")\n",
    "software_spec_uid"
   ]
  },
  {
   "cell_type": "code",
   "execution_count": null,
   "metadata": {
    "id": "dIQuliJkj1Wk"
   },
   "outputs": [],
   "source": [
    "model_details = client.repository.store_model(model = \"model.tgz\",meta_props={\n",
    "    client.repository.ModelMetaNames.NAME:\"CrudeOil Price Prediction\",\n",
    "    client.repository.ModelMetaNames.TYPE:\"tensorflow_2.7\",\n",
    "    client.repository.ModelMetaNames.SOFTWARE_SPEC_UID:software_spec_uid\n",
    "})\n",
    "model_id = client.repository.get_model_id(model_details)"
   ]
  },
  {
   "cell_type": "code",
   "execution_count": null,
   "metadata": {
    "colab": {
     "base_uri": "https://localhost:8080/",
     "height": 36
    },
    "id": "gKHf70i5j1Wl",
    "outputId": "dbf19f8f-d374-499a-f14f-1ec2ea43cb99"
   },
   "outputs": [],
   "source": [
    "model_id = client.repository.get_model_id(model_details)\n",
    "model_id"
   ]
  },
  {
   "cell_type": "code",
   "execution_count": null,
   "metadata": {
    "colab": {
     "base_uri": "https://localhost:8080/",
     "height": 53
    },
    "id": "5y2Tq7-wj1Wl",
    "outputId": "a1c2c6c1-9ff9-4b67-c54a-a82a321c5528"
   },
   "outputs": [],
   "source": [
    "client.repository.download(model_id,'ibm_model.h5')"
   ]
  },
  {
   "cell_type": "markdown",
   "metadata": {
    "id": "LQfpDJWj7o3G"
   },
   "source": [
    "## Test the model"
   ]
  },
  {
   "cell_type": "code",
   "execution_count": null,
   "metadata": {
    "colab": {
     "base_uri": "https://localhost:8080/",
     "height": 483
    },
    "id": "mqeSmi6mv9fC",
    "outputId": "4b37bf81-172e-45c3-b261-07258c314699"
   },
   "outputs": [],
   "source": [
    "# Model Testing\n",
    "look_back = 10\n",
    "trainPredictPlot = np.empty_like(df1)\n",
    "trainPredictPlot[:,:] = np.nan\n",
    "trainPredictPlot[look_back:len(train_predict)+look_back,:] = train_predict\n",
    "testPredictPlot = np.empty_like(df1)\n",
    "testPredictPlot[:,:] = np.nan\n",
    "testPredictPlot[len(train_predict)+(look_back*2)+1:len(df1)-1,:] = test_predict\n",
    "plt.plot(sc.inverse_transform(df1))\n",
    "plt.plot(trainPredictPlot)\n",
    "plt.plot(testPredictPlot)\n",
    "plt.show()"
   ]
  },
  {
   "cell_type": "code",
   "execution_count": null,
   "metadata": {
    "colab": {
     "base_uri": "https://localhost:8080/"
    },
    "id": "CLX5hNKvyJGz",
    "outputId": "ccf2e9a3-1b1b-49bf-9337-8372335b7cd6"
   },
   "outputs": [],
   "source": [
    "x_input = test[len(test)-10:].reshape(1,-1)\n",
    "x_input.shape"
   ]
  },
  {
   "cell_type": "code",
   "execution_count": null,
   "metadata": {
    "id": "9oiekl3NyJEE"
   },
   "outputs": [],
   "source": [
    "temp_input = list(x_input[0])\n",
    "temp_list = temp_input[0].tolist()"
   ]
  },
  {
   "cell_type": "code",
   "execution_count": null,
   "metadata": {
    "colab": {
     "base_uri": "https://localhost:8080/"
    },
    "id": "SaDkoS48UMWN",
    "outputId": "c29b5038-bc99-4459-d2cd-d6938f9cd675"
   },
   "outputs": [],
   "source": [
    "temp_input"
   ]
  },
  {
   "cell_type": "code",
   "execution_count": null,
   "metadata": {
    "colab": {
     "base_uri": "https://localhost:8080/"
    },
    "id": "gIu0GlF5yI-M",
    "outputId": "1a3c1544-79f5-468d-eee3-ebe5dba5c561"
   },
   "outputs": [],
   "source": [
    "lst_output = []\n",
    "n_steps = 10\n",
    "i = 0\n",
    "while(i<10):\n",
    "  if(len(temp_input) > 10):\n",
    "    x_input = np.array(temp_input[1:])\n",
    "    print(\"Day {} Input {}\".format(i,x_input),end=\"\\n\")\n",
    "    x_input = x_input.reshape(1,-1)\n",
    "    x_input = x_input.reshape((1,n_steps,1))\n",
    "    yhat = model.predict(x_input,verbose=0)\n",
    "    print(\"Day {} Output {}\".format(i,yhat),end=\"\\n\")\n",
    "    temp_input.extend(yhat[0].tolist())\n",
    "    temp_input = temp_input[1:]\n",
    "    print(\"------------------------\",end=\"\\n\")\n",
    "    lst_output.extend(yhat.tolist())\n",
    "    i = i+1\n",
    "  else:\n",
    "    x_input = x_input.reshape((1,n_steps,1))\n",
    "    yhat = model.predict(x_input,verbose=0)\n",
    "    print(\"Day {} output {}\".format(i,yhat),end=\"\\n\")\n",
    "    temp_input.extend(yhat[0].tolist())\n",
    "    lst_output.extend(yhat.tolist())\n",
    "    i = i+1"
   ]
  }
 ],
 "metadata": {
  "accelerator": "GPU",
  "colab": {
   "collapsed_sections": [],
   "provenance": []
  },
  "gpuClass": "standard",
  "kernelspec": {
   "display_name": "Python 3 (ipykernel)",
   "language": "python",
   "name": "python3"
  },
  "language_info": {
   "codemirror_mode": {
    "name": "ipython",
    "version": 3
   },
   "file_extension": ".py",
   "mimetype": "text/x-python",
   "name": "python",
   "nbconvert_exporter": "python",
   "pygments_lexer": "ipython3",
   "version": "3.9.13"
  }
 },
 "nbformat": 4,
 "nbformat_minor": 1
}
